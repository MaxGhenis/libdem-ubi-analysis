{
 "cells": [
  {
   "cell_type": "markdown",
   "id": "textile-fight",
   "metadata": {},
   "source": [
    "# Analysis\n",
    "\n",
    "The policy paper outlines four different UBI levels, each with different net costs after UBI and tax-benefit changes.\n",
    "\n",
    "## Reform Specification\n",
    "\n",
    "Below specifies the first reform, and calculates the effects of each component. This is a £45/week UBI for working-age adults, funded in part by including it in benefit means tests, reducing the Personal Allowance for working-age adults and reducing the National Insurance Primary Threshold to "
   ]
  },
  {
   "cell_type": "code",
   "execution_count": 1,
   "id": "sweet-refrigerator",
   "metadata": {},
   "outputs": [
    {
     "data": {
      "text/html": [
       "<div>\n",
       "<style scoped>\n",
       "    .dataframe tbody tr th:only-of-type {\n",
       "        vertical-align: middle;\n",
       "    }\n",
       "\n",
       "    .dataframe tbody tr th {\n",
       "        vertical-align: top;\n",
       "    }\n",
       "\n",
       "    .dataframe thead th {\n",
       "        text-align: right;\n",
       "    }\n",
       "</style>\n",
       "<table border=\"1\" class=\"dataframe\">\n",
       "  <thead>\n",
       "    <tr style=\"text-align: right;\">\n",
       "      <th></th>\n",
       "      <th>Net cost (£bn)</th>\n",
       "      <th>Resulting net cost</th>\n",
       "    </tr>\n",
       "    <tr>\n",
       "      <th>Component</th>\n",
       "      <th></th>\n",
       "      <th></th>\n",
       "    </tr>\n",
       "  </thead>\n",
       "  <tbody>\n",
       "    <tr>\n",
       "      <th>UBI (£45/week)</th>\n",
       "      <td>93.6</td>\n",
       "      <td>93.6</td>\n",
       "    </tr>\n",
       "    <tr>\n",
       "      <th>Reduced Benefits</th>\n",
       "      <td>-6.0</td>\n",
       "      <td>87.6</td>\n",
       "    </tr>\n",
       "    <tr>\n",
       "      <th>Lower PA</th>\n",
       "      <td>-58.6</td>\n",
       "      <td>29.0</td>\n",
       "    </tr>\n",
       "    <tr>\n",
       "      <th>Lower PT</th>\n",
       "      <td>-37.2</td>\n",
       "      <td>-8.2</td>\n",
       "    </tr>\n",
       "  </tbody>\n",
       "</table>\n",
       "</div>"
      ],
      "text/plain": [
       "                  Net cost (£bn)  Resulting net cost\n",
       "Component                                           \n",
       "UBI (£45/week)              93.6                93.6\n",
       "Reduced Benefits            -6.0                87.6\n",
       "Lower PA                   -58.6                29.0\n",
       "Lower PT                   -37.2                -8.2"
      ]
     },
     "execution_count": 1,
     "metadata": {},
     "output_type": "execute_result"
    }
   ],
   "source": [
    "from openfisca_uk import Microsimulation\n",
    "from reform import WA_adult_UBI, include_UBI_in_means_tests, set_PA, set_PA_for_WA_adults, set_PT, net_cost\n",
    "import numpy as np\n",
    "import pandas as pd\n",
    "from tqdm import trange\n",
    "\n",
    "ubi_45 = (WA_adult_UBI(45 * 52), include_UBI_in_means_tests(), set_PA_for_WA_adults(2500), set_PT(50))\n",
    "baseline = Microsimulation()\n",
    "ubi_45_sim = Microsimulation(ubi_45)\n",
    "\n",
    "net_costs = []\n",
    "names = [\"UBI (£45/week)\", \"Reduced Benefits\", \"Lower PA\", \"Lower PT\"]\n",
    "for i in range(len(ubi_45) + 1):\n",
    "    net_costs += [net_cost(baseline, Microsimulation(ubi_45[:i]))]\n",
    "net_costs = np.array(net_costs)\n",
    "\n",
    "net_cost = pd.Series((net_costs[1:] - net_costs[:-1]) / 1e+9).apply(lambda x: round(x, 1))\n",
    "\n",
    "pd.DataFrame({\"Component\": names, \"Net cost (£bn)\": net_cost, \"Resulting net cost\": net_cost.cumsum()}).set_index(\"Component\")"
   ]
  }
 ],
 "metadata": {
  "kernelspec": {
   "display_name": "Python 3",
   "language": "python",
   "name": "python3"
  },
  "language_info": {
   "codemirror_mode": {
    "name": "ipython",
    "version": 3
   },
   "file_extension": ".py",
   "mimetype": "text/x-python",
   "name": "python",
   "nbconvert_exporter": "python",
   "pygments_lexer": "ipython3",
   "version": "3.7.10"
  }
 },
 "nbformat": 4,
 "nbformat_minor": 5
}
