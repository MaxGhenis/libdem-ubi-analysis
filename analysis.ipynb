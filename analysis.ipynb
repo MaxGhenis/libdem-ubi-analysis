{
 "cells": [
  {
   "cell_type": "markdown",
   "id": "experienced-claim",
   "metadata": {},
   "source": [
    "# Analysis\n",
    "\n",
    "The policy paper outlines four different UBI levels, each with different net costs after UBI and tax-benefit changes.\n",
    "\n",
    "## Funding breakdown\n",
    "\n",
    "Below specifies the first reform, and calculates the effects of each component. This is a £45/week UBI for working-age adults, funded in part by including it in benefit means tests[^1], reducing the Personal Allowance for working-age adults and reducing the National Insurance Primary Threshold to £50/week. Overall, the Personal Allowance provides most of the funding, and the inclusion in means tested benefits provides only a small part that could be covered by reducing the personal allowance further.\n",
    "\n",
    "[^1]: Universal Credit and the Tax Credits simulated."
   ]
  },
  {
   "cell_type": "code",
   "execution_count": 1,
   "id": "obvious-manner",
   "metadata": {
    "tags": [
     "hide-input"
    ]
   },
   "outputs": [
    {
     "data": {
      "text/html": [
       "<div>\n",
       "<style scoped>\n",
       "    .dataframe tbody tr th:only-of-type {\n",
       "        vertical-align: middle;\n",
       "    }\n",
       "\n",
       "    .dataframe tbody tr th {\n",
       "        vertical-align: top;\n",
       "    }\n",
       "\n",
       "    .dataframe thead th {\n",
       "        text-align: right;\n",
       "    }\n",
       "</style>\n",
       "<table border=\"1\" class=\"dataframe\">\n",
       "  <thead>\n",
       "    <tr style=\"text-align: right;\">\n",
       "      <th></th>\n",
       "      <th>Net cost (£bn)</th>\n",
       "      <th>Resulting net cost</th>\n",
       "    </tr>\n",
       "    <tr>\n",
       "      <th>Component</th>\n",
       "      <th></th>\n",
       "      <th></th>\n",
       "    </tr>\n",
       "  </thead>\n",
       "  <tbody>\n",
       "    <tr>\n",
       "      <th>UBI (£45/week)</th>\n",
       "      <td>93.6</td>\n",
       "      <td>93.6</td>\n",
       "    </tr>\n",
       "    <tr>\n",
       "      <th>Reduced Benefits</th>\n",
       "      <td>-6.0</td>\n",
       "      <td>87.6</td>\n",
       "    </tr>\n",
       "    <tr>\n",
       "      <th>Lower PA</th>\n",
       "      <td>-58.6</td>\n",
       "      <td>29.0</td>\n",
       "    </tr>\n",
       "    <tr>\n",
       "      <th>Lower PT</th>\n",
       "      <td>-37.2</td>\n",
       "      <td>-8.2</td>\n",
       "    </tr>\n",
       "  </tbody>\n",
       "</table>\n",
       "</div>"
      ],
      "text/plain": [
       "                  Net cost (£bn)  Resulting net cost\n",
       "Component                                           \n",
       "UBI (£45/week)              93.6                93.6\n",
       "Reduced Benefits            -6.0                87.6\n",
       "Lower PA                   -58.6                29.0\n",
       "Lower PT                   -37.2                -8.2"
      ]
     },
     "execution_count": 1,
     "metadata": {},
     "output_type": "execute_result"
    }
   ],
   "source": [
    "from openfisca_uk import Microsimulation\n",
    "from reform import WA_adult_UBI, include_UBI_in_means_tests, set_PA, set_PA_for_WA_adults, set_PT, net_cost\n",
    "import numpy as np\n",
    "import pandas as pd\n",
    "from tqdm import trange, tqdm\n",
    "\n",
    "ubi_45 = (WA_adult_UBI(45 * 52), include_UBI_in_means_tests(), set_PA_for_WA_adults(2500), set_PT(50))\n",
    "baseline = Microsimulation()\n",
    "ubi_45_sim = Microsimulation(ubi_45)\n",
    "\n",
    "net_costs = []\n",
    "names = [\"UBI (£45/week)\", \"Reduced Benefits\", \"Lower PA\", \"Lower PT\"]\n",
    "for i in range(len(ubi_45) + 1):\n",
    "    net_costs += [net_cost(baseline, Microsimulation(ubi_45[:i]))]\n",
    "net_costs = np.array(net_costs)\n",
    "\n",
    "resulting_costs = pd.Series((net_costs[1:] - net_costs[:-1]) / 1e+9).apply(lambda x: round(x, 1))\n",
    "\n",
    "pd.DataFrame({\"Component\": names, \"Net cost (£bn)\": resulting_costs, \"Resulting net cost (£bn)\": resulting_costs.cumsum()}).set_index(\"Component\")"
   ]
  },
  {
   "cell_type": "markdown",
   "id": "useful-enterprise",
   "metadata": {},
   "source": [
    "## UBI variants\n",
    "\n",
    "The policy paper looks at four UBI proposals, characterized mainly by their UBI level: £45, £60, £75 and £95 per week. The below table shows the estimated cost of the reforms (as far as their funding methods can be implied from the paper[^2]). In all reforms except the smallest UBI, the estimated costs are within the ranges estimated by the paper. The wording of the paper implies that in at least some of the reforms, the tax changes are not as large, so it is plausible that the paper assigned a higher personal allowance in the smallest UBI policy, reducing its funding and therefore increasing its cost.\n",
    "\n",
    "[^2]: The paper does not specify whether the tax changes are the same in each reform. Here, we have assumed that the PA and PT are reduced to £50/week for all reforms."
   ]
  },
  {
   "cell_type": "code",
   "execution_count": 2,
   "id": "thrown-property",
   "metadata": {
    "tags": [
     "hide-input"
    ]
   },
   "outputs": [
    {
     "data": {
      "text/html": [
       "<div>\n",
       "<style scoped>\n",
       "    .dataframe tbody tr th:only-of-type {\n",
       "        vertical-align: middle;\n",
       "    }\n",
       "\n",
       "    .dataframe tbody tr th {\n",
       "        vertical-align: top;\n",
       "    }\n",
       "\n",
       "    .dataframe thead th {\n",
       "        text-align: right;\n",
       "    }\n",
       "</style>\n",
       "<table border=\"1\" class=\"dataframe\">\n",
       "  <thead>\n",
       "    <tr style=\"text-align: right;\">\n",
       "      <th></th>\n",
       "      <th>LD Net Cost (£bn)</th>\n",
       "      <th>Net cost (£bn)</th>\n",
       "      <th>Poverty change (%)</th>\n",
       "    </tr>\n",
       "    <tr>\n",
       "      <th>UBI</th>\n",
       "      <th></th>\n",
       "      <th></th>\n",
       "      <th></th>\n",
       "    </tr>\n",
       "  </thead>\n",
       "  <tbody>\n",
       "    <tr>\n",
       "      <th>£45</th>\n",
       "      <td>13-18</td>\n",
       "      <td>-8.3</td>\n",
       "      <td>-16.1</td>\n",
       "    </tr>\n",
       "    <tr>\n",
       "      <th>£60</th>\n",
       "      <td>22-28</td>\n",
       "      <td>21.0</td>\n",
       "      <td>-26.8</td>\n",
       "    </tr>\n",
       "    <tr>\n",
       "      <th>£75</th>\n",
       "      <td>48-56</td>\n",
       "      <td>50.7</td>\n",
       "      <td>-35.5</td>\n",
       "    </tr>\n",
       "    <tr>\n",
       "      <th>£95</th>\n",
       "      <td>84-93</td>\n",
       "      <td>90.6</td>\n",
       "      <td>-45.6</td>\n",
       "    </tr>\n",
       "  </tbody>\n",
       "</table>\n",
       "</div>"
      ],
      "text/plain": [
       "    LD Net Cost (£bn)  Net cost (£bn)  Poverty change (%)\n",
       "UBI                                                      \n",
       "£45             13-18            -8.3               -16.1\n",
       "£60             22-28            21.0               -26.8\n",
       "£75             48-56            50.7               -35.5\n",
       "£95             84-93            90.6               -45.6"
      ]
     },
     "execution_count": 2,
     "metadata": {},
     "output_type": "execute_result"
    }
   ],
   "source": [
    "ubi_60 = (WA_adult_UBI(60 * 52), include_UBI_in_means_tests(), set_PA_for_WA_adults(2500), set_PT(50))\n",
    "ubi_75 = (WA_adult_UBI(75 * 52), include_UBI_in_means_tests(), set_PA_for_WA_adults(2500), set_PT(50))\n",
    "ubi_95 = (WA_adult_UBI(95 * 52), include_UBI_in_means_tests(), set_PA_for_WA_adults(2500), set_PT(50))\n",
    "\n",
    "from openfisca_uk.api import *\n",
    "\n",
    "def get_results(reform: Reform):\n",
    "    sim = Microsimulation(reform)\n",
    "    cost = net_cost(baseline, sim)\n",
    "    baseline_poverty = baseline.calc(\"in_poverty_bhc\", map_to=\"person\").mean()\n",
    "    poverty_change = (sim.calc(\"in_poverty_bhc\", map_to=\"person\").mean() - baseline_poverty) / baseline_poverty\n",
    "    return cost, poverty_change\n",
    "\n",
    "reforms = (ubi_45, ubi_60, ubi_75, ubi_95)\n",
    "names = (\"£45\", \"£60\", \"£75\", \"£95\")\n",
    "results = list(map(get_results, reforms))\n",
    "costs, poverty_changes = list(zip(*results))\n",
    "libdem_costings = (\n",
    "    \"13-18\",\n",
    "    \"22-28\",\n",
    "    \"48-56\",\n",
    "    \"84-93\"\n",
    ")\n",
    "pd.DataFrame({\"UBI\": names, \"LD Net Cost (£bn)\": libdem_costings, \"Net cost (£bn)\": pd.Series(costs).apply(lambda x: round(x / 1e+9, 1)), \"Poverty change (%)\": pd.Series(poverty_changes).apply(lambda x: round(x * 100, 1))}).set_index(\"UBI\")"
   ]
  },
  {
   "cell_type": "markdown",
   "id": "opposite-convert",
   "metadata": {},
   "source": [
    "## Distributions"
   ]
  }
 ],
 "metadata": {
  "kernelspec": {
   "display_name": "Python 3",
   "language": "python",
   "name": "python3"
  },
  "language_info": {
   "codemirror_mode": {
    "name": "ipython",
    "version": 3
   },
   "file_extension": ".py",
   "mimetype": "text/x-python",
   "name": "python",
   "nbconvert_exporter": "python",
   "pygments_lexer": "ipython3",
   "version": "3.7.10"
  }
 },
 "nbformat": 4,
 "nbformat_minor": 5
}
